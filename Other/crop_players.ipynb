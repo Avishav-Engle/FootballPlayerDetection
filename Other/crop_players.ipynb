{
  "cells": [
    {
      "cell_type": "code",
      "execution_count": null,
      "metadata": {
        "colab": {
          "base_uri": "https://localhost:8080/"
        },
        "id": "OVXGpAiJ08cJ",
        "outputId": "cb2d2162-6954-4208-86ae-1a43f3ce035b"
      },
      "outputs": [
        {
          "output_type": "stream",
          "name": "stdout",
          "text": [
            "Mounted at /content/drive\n",
            "[Errno 2] No such file or directory: '/content/drive/MyDrive/FB_Player_Images'\n",
            "/content\n"
          ]
        }
      ],
      "source": [
        "from google.colab import drive\n",
        "drive.mount('/content/drive')\n",
        "%cd /content/drive/MyDrive/FB_Player_Images"
      ]
    },
    {
      "cell_type": "code",
      "execution_count": null,
      "metadata": {
        "id": "mDHrKroT1plj"
      },
      "outputs": [],
      "source": [
        "import os\n",
        "import glob as glob\n",
        "import matplotlib.pyplot as plt\n",
        "import random\n",
        "import cv2\n",
        "from PIL import Image\n",
        "import numpy"
      ]
    },
    {
      "cell_type": "code",
      "execution_count": null,
      "metadata": {
        "id": "NrJNIsd73SGK"
      },
      "outputs": [],
      "source": [
        "# Function to convert bounding boxes in YOLO format to xmin, ymin, xmax, ymax.\n",
        "def yolo2bbox(bboxes):\n",
        "    xmin, ymin = bboxes[0]-bboxes[2]/2, bboxes[1]-bboxes[3]/2\n",
        "    xmax, ymax = bboxes[0]+bboxes[2]/2, bboxes[1]+bboxes[3]/2\n",
        "    return xmin, ymin, xmax, ymax"
      ]
    },
    {
      "cell_type": "code",
      "execution_count": null,
      "metadata": {
        "id": "mjIMh6sU20ET"
      },
      "outputs": [],
      "source": [
        "def crop_image(image, bboxes, dest_dir, save_num, i):\n",
        "    # Need the image height and width to denormalize\n",
        "    # the bounding box coordinates\n",
        "    h, w, _ = image.shape\n",
        "    for box_num, box in enumerate(bboxes):\n",
        "        x1, y1, x2, y2 = yolo2bbox(box)\n",
        "        # Denormalize the coordinates.\n",
        "        xmin = int(x1*w)\n",
        "        ymin = int(y1*h)\n",
        "        xmax = int(x2*w)\n",
        "        ymax = int(y2*h)\n",
        "\n",
        "        im = Image.fromarray(numpy.uint8(image))\n",
        "        cropped_im = im.crop((xmin, ymin, xmax, ymax))\n",
        "        # cropped_im = cropped_im.resize((30,15))\n",
        "        isExist = os.path.exists(dest_dir + str(i))\n",
        "        if not isExist:\n",
        "            os.makedirs(dest_dir + str(i))\n",
        "        cropped_im.save( dest_dir + str(i) + '/' + str(save_num) + '.jpg')\n",
        "        save_num += 1\n",
        "        # print(cropped_im.size)\n",
        "    return save_num"
      ]
    },
    {
      "cell_type": "code",
      "execution_count": null,
      "metadata": {
        "id": "vKuxs_Vu20Rd"
      },
      "outputs": [],
      "source": [
        "# Function to crop players from images.\n",
        "def crop(image_paths, label_paths, num_samples, dest_dir):\n",
        "    all_images = []\n",
        "    all_images.extend(glob.glob(image_paths+'/*.jpg'))\n",
        "    all_images.extend(glob.glob(image_paths+'/*.JPG'))\n",
        "    all_labels = glob.glob(label_paths)\n",
        "    \n",
        "    all_images.sort()\n",
        "    all_labels.sort()\n",
        "    if num_samples == float(\"inf\"):\n",
        "      num_images = len(all_images)\n",
        "    else:\n",
        "      num_images = num_samples\n",
        "    print(all_images)\n",
        "    # save_num = 100\n",
        "    for i in range(num_images):\n",
        "        print(i)\n",
        "        image = image = cv2.cvtColor(cv2.imread(all_images[i]), cv2.COLOR_BGR2RGB)\n",
        "        with open(all_labels[i], 'r') as f:\n",
        "            bboxes = []\n",
        "            labels = []\n",
        "            label_lines = f.readlines()\n",
        "            for label_line in label_lines:\n",
        "                label = label_line[0]\n",
        "                if label == '2': #check if label == 'player'\n",
        "                  bbox_string = label_line[2:]\n",
        "                  x_c, y_c, w, h = bbox_string.split(' ')\n",
        "                  x_c = float(x_c)\n",
        "                  y_c = float(y_c)\n",
        "                  w = float(w)\n",
        "                  h = float(h)\n",
        "                  bboxes.append([x_c, y_c, w, h])\n",
        "                  labels.append(label)\n",
        "        save_num = 100\n",
        "        save_num = crop_image(image, bboxes,dest_dir, save_num, i)\n",
        "        "
      ]
    },
    {
      "cell_type": "code",
      "source": [
        "from matplotlib import numpy\n",
        "def crop_image_train(image, bboxes, dest_dir, save_num):\n",
        "    # Need the image height and width to denormalize\n",
        "    # the bounding box coordinates\n",
        "    h, w, _ = image.shape\n",
        "    for box_num, box in enumerate(bboxes):\n",
        "        x1, y1, x2, y2 = yolo2bbox(box)\n",
        "        # Denormalize the coordinates.\n",
        "        xmin = int(x1*w)\n",
        "        ymin = int(y1*h)\n",
        "        xmax = int(x2*w)\n",
        "        ymax = int(y2*h)\n",
        "\n",
        "        im = Image.fromarray(numpy.uint8(image))\n",
        "        cropped_im = im.crop((xmin, ymin, xmax, ymax))\n",
        "        cropped_im.save( dest_dir + str(save_num) + '.jpg')\n",
        "        save_num += 1\n",
        "        # print(cropped_im.size)\n",
        "    return save_num"
      ],
      "metadata": {
        "id": "llAC0xurxPZQ"
      },
      "execution_count": null,
      "outputs": []
    },
    {
      "cell_type": "code",
      "source": [
        "# Function to crop players from train images.\n",
        "def crop_train(image_paths, label_paths, num_samples, dest_dir):\n",
        "    all_images = []\n",
        "    all_images.extend(glob.glob(image_paths+'/*.jpg'))\n",
        "    all_images.extend(glob.glob(image_paths+'/*.JPG'))\n",
        "    all_labels = glob.glob(label_paths)\n",
        "    \n",
        "    all_images.sort()\n",
        "    all_labels.sort()\n",
        "    if num_samples == float(\"inf\"):\n",
        "      num_images = len(all_images)\n",
        "    else:\n",
        "      num_images = num_samples\n",
        "    print(all_images)\n",
        "    save_num = 0\n",
        "    for i in range(num_images):\n",
        "        print(i)\n",
        "        image = cv2.cvtColor(cv2.imread(all_images[i]), cv2.COLOR_BGR2RGB)\n",
        "        with open(all_labels[i], 'r') as f:\n",
        "            bboxes = []\n",
        "            labels = []\n",
        "            label_lines = f.readlines()\n",
        "            for label_line in label_lines:\n",
        "                label = label_line[0]\n",
        "                if label == '2': #check if label == 'player'\n",
        "                  bbox_string = label_line[2:]\n",
        "                  x_c, y_c, w, h = bbox_string.split(' ')\n",
        "                  x_c = float(x_c)\n",
        "                  y_c = float(y_c)\n",
        "                  w = float(w)\n",
        "                  h = float(h)\n",
        "                  bboxes.append([x_c, y_c, w, h])\n",
        "                  labels.append(label)\n",
        "        save_num = crop_image(image, bboxes,dest_dir, save_num)\n",
        "        "
      ],
      "metadata": {
        "id": "4VqGOR88xPrK"
      },
      "execution_count": null,
      "outputs": []
    },
    {
      "cell_type": "code",
      "execution_count": null,
      "metadata": {
        "colab": {
          "background_save": true
        },
        "id": "9qNEd8gk25im"
      },
      "outputs": [],
      "source": [
        "# cropping all training images\n",
        "crop_train(\n",
        "    image_paths='/content/drive/MyDrive/yolov7-main/football-players-detection-2/train/images/' ,\n",
        "    label_paths='/content/drive/MyDrive/yolov7-main/football-players-detection-2/train/labels/*.txt',\n",
        "    num_samples= float(\"inf\"), #inf takes all the pictures float(\"inf\")\n",
        "    dest_dir = '/content/drive/MyDrive/Deep Learning Project/FB_Player_Images_real/'\n",
        ")"
      ]
    },
    {
      "cell_type": "code",
      "execution_count": null,
      "metadata": {
        "colab": {
          "base_uri": "https://localhost:8080/"
        },
        "id": "ugcHPQViaMf3",
        "outputId": "22fce8cb-9b9a-4548-dddf-57e569caa6f3"
      },
      "outputs": [
        {
          "output_type": "stream",
          "name": "stdout",
          "text": [
            "['/content/drive/MyDrive/Deep Learning Project/yolov7-main/football-players-detection-2/valid/images/08fd33_3_1_png.rf.894a7edd6b726ed886b3777ea55d6beb.jpg', '/content/drive/MyDrive/Deep Learning Project/yolov7-main/football-players-detection-2/valid/images/08fd33_3_3_png.rf.7aaf5d38e77c064882cb7b0f80e7e156.jpg', '/content/drive/MyDrive/Deep Learning Project/yolov7-main/football-players-detection-2/valid/images/08fd33_9_8_png.rf.c4792b7740c5e581674385c8a2c149fe.jpg', '/content/drive/MyDrive/Deep Learning Project/yolov7-main/football-players-detection-2/valid/images/121364_7_9_png.rf.0b474ed35ea4cab1acb2fc14ef64c7cc.jpg', '/content/drive/MyDrive/Deep Learning Project/yolov7-main/football-players-detection-2/valid/images/121364_9_2_png.rf.4028ff624f963fe501d9bf2b563582ca.jpg', '/content/drive/MyDrive/Deep Learning Project/yolov7-main/football-players-detection-2/valid/images/121364_9_3_png.rf.942d5bdea8c598c9ed8967bc8b9860ae.jpg', '/content/drive/MyDrive/Deep Learning Project/yolov7-main/football-players-detection-2/valid/images/2e57b9_3_10_png.rf.6501f2d4a456a235edc4f543acc96cdf.jpg', '/content/drive/MyDrive/Deep Learning Project/yolov7-main/football-players-detection-2/valid/images/2e57b9_3_8_png.rf.27a64da783d4729880af00ab0704cb26.jpg', '/content/drive/MyDrive/Deep Learning Project/yolov7-main/football-players-detection-2/valid/images/2e57b9_9_1_png.rf.7fa5686fe9d6d22ecc80aa124df3c805.jpg', '/content/drive/MyDrive/Deep Learning Project/yolov7-main/football-players-detection-2/valid/images/40cd38_7_7_png.rf.9c1efe80cfadc388fd2c98ebaf985a5e.jpg', '/content/drive/MyDrive/Deep Learning Project/yolov7-main/football-players-detection-2/valid/images/42ba34_1_3_png.rf.e4971b5105d3d95f2081bdce7c338db2.jpg', '/content/drive/MyDrive/Deep Learning Project/yolov7-main/football-players-detection-2/valid/images/42ba34_1_4_png.rf.6ddff8baf433adef083e8dcec5f3e98e.jpg', '/content/drive/MyDrive/Deep Learning Project/yolov7-main/football-players-detection-2/valid/images/42ba34_3_2_png.rf.8a5778a76ab75d7be959a0e2f9926a4b.jpg', '/content/drive/MyDrive/Deep Learning Project/yolov7-main/football-players-detection-2/valid/images/42ba34_7_1_png.rf.7d753b1bd9aff250da2856fe1fa96e6f.jpg', '/content/drive/MyDrive/Deep Learning Project/yolov7-main/football-players-detection-2/valid/images/4b770a_3_1_png.rf.524883955fde5f4cb91118ecb77c6970.jpg', '/content/drive/MyDrive/Deep Learning Project/yolov7-main/football-players-detection-2/valid/images/4b770a_3_7_png.rf.f056221cfdb2c5519bb3bf9902a2ac4b.jpg', '/content/drive/MyDrive/Deep Learning Project/yolov7-main/football-players-detection-2/valid/images/4b770a_5_5_png.rf.898c0e25ef583ee0f7c45b75987229d5.jpg', '/content/drive/MyDrive/Deep Learning Project/yolov7-main/football-players-detection-2/valid/images/538438_1_5_png.rf.9a9ec204c693a172216a6c1928732ea9.jpg', '/content/drive/MyDrive/Deep Learning Project/yolov7-main/football-players-detection-2/valid/images/538438_9_8_png.rf.a8ab9a97f80062b6423c41c9fc00e86b.jpg', '/content/drive/MyDrive/Deep Learning Project/yolov7-main/football-players-detection-2/valid/images/54745b_9_2_png.rf.1126451d5abeb6601fd84f04c46b5fb4.jpg', '/content/drive/MyDrive/Deep Learning Project/yolov7-main/football-players-detection-2/valid/images/54745b_9_4_png.rf.025a12ff9ee3dfb4bdf093dfe432e14c.jpg', '/content/drive/MyDrive/Deep Learning Project/yolov7-main/football-players-detection-2/valid/images/54745b_9_5_png.rf.d0a02362df72f0da7465a7d68e00194d.jpg', '/content/drive/MyDrive/Deep Learning Project/yolov7-main/football-players-detection-2/valid/images/54745b_9_6_png.rf.844e6269d9070d4c0fb00e142f6c1096.jpg', '/content/drive/MyDrive/Deep Learning Project/yolov7-main/football-players-detection-2/valid/images/573e61_1_10_png.rf.f366586822275517991a4cad7c73f9e0.jpg', '/content/drive/MyDrive/Deep Learning Project/yolov7-main/football-players-detection-2/valid/images/744b27_1_6_png.rf.6797d7dff2614cfeb38d4b2aca1d4d9a.jpg', '/content/drive/MyDrive/Deep Learning Project/yolov7-main/football-players-detection-2/valid/images/744b27_1_7_png.rf.22205408fb02cc145441cc5979787d5c.jpg', '/content/drive/MyDrive/Deep Learning Project/yolov7-main/football-players-detection-2/valid/images/744b27_3_7_png.rf.5b6a5310277d9027aef2e7d07da02ce4.jpg', '/content/drive/MyDrive/Deep Learning Project/yolov7-main/football-players-detection-2/valid/images/744b27_7_1_png.rf.7335021ba416416693ed7ae6f6f6a382.jpg', '/content/drive/MyDrive/Deep Learning Project/yolov7-main/football-players-detection-2/valid/images/744b27_7_5_png.rf.d5deafb9fee0c2ba7be675ca528b08df.jpg', '/content/drive/MyDrive/Deep Learning Project/yolov7-main/football-players-detection-2/valid/images/744b27_7_6_png.rf.a1a5878ac806348acde7fd79abc78e82.jpg', '/content/drive/MyDrive/Deep Learning Project/yolov7-main/football-players-detection-2/valid/images/744b27_7_7_png.rf.2f9964a882fa25f59bd62dde6867f6cb.jpg', '/content/drive/MyDrive/Deep Learning Project/yolov7-main/football-players-detection-2/valid/images/744b27_9_8_png.rf.7b00f9f77e6bb12572f01620d39732c4.jpg', '/content/drive/MyDrive/Deep Learning Project/yolov7-main/football-players-detection-2/valid/images/798b45_1_1_png.rf.410ced72bdcf784e47dd5d2920bae574.jpg', '/content/drive/MyDrive/Deep Learning Project/yolov7-main/football-players-detection-2/valid/images/798b45_1_2_png.rf.f85272a367d64f62d3fa1bed8750cbb0.jpg', '/content/drive/MyDrive/Deep Learning Project/yolov7-main/football-players-detection-2/valid/images/798b45_7_4_png.rf.c6884cb33be843080f1f9c6e3e7e5f75.jpg', '/content/drive/MyDrive/Deep Learning Project/yolov7-main/football-players-detection-2/valid/images/798b45_7_5_png.rf.1acc41d1a5a11c598847ee84f4da3029.jpg', '/content/drive/MyDrive/Deep Learning Project/yolov7-main/football-players-detection-2/valid/images/798b45_9_8_png.rf.938485d72eb836daf7594f478a7b2e4d.jpg', '/content/drive/MyDrive/Deep Learning Project/yolov7-main/football-players-detection-2/valid/images/a9f16c_8_10_png.rf.3028b2b8a61ac775683f2f11f6293053.jpg']\n",
            "0\n",
            "1\n",
            "2\n",
            "3\n",
            "4\n",
            "5\n",
            "6\n",
            "7\n",
            "8\n",
            "9\n"
          ]
        }
      ],
      "source": [
        "#crop 5 validation images, we will label them, to check validation accuracy\n",
        "crop(\n",
        "    image_paths='/content/drive/MyDrive/Deep Learning Project/yolov7-main/football-players-detection-2/valid/images/' ,\n",
        "    label_paths='/content/drive/MyDrive/Deep Learning Project/yolov7-main/football-players-detection-2/valid/labels/*.txt',\n",
        "    num_samples= 10, #inf takes all the pictures float(\"inf\")\n",
        "    dest_dir = '/content/drive/MyDrive/Deep Learning Project/FB_Player_Images_validation/'\n",
        ")"
      ]
    },
    {
      "cell_type": "code",
      "execution_count": null,
      "metadata": {
        "colab": {
          "base_uri": "https://localhost:8080/"
        },
        "id": "shXdXtkPjAKo",
        "outputId": "2d80ad4a-5650-45c7-9182-83d7be6c13ea"
      },
      "outputs": [
        {
          "output_type": "stream",
          "name": "stdout",
          "text": [
            "['/content/drive/MyDrive/Deep Learning Project/yolov7-main/football-players-detection-2/test/images/40cd38_7_6_png.rf.dc7957fcce915bc48188f18a7b19455b.jpg', '/content/drive/MyDrive/Deep Learning Project/yolov7-main/football-players-detection-2/test/images/42ba34_1_5_png.rf.927d602c034ce2997f58f62a7c1245ba.jpg', '/content/drive/MyDrive/Deep Learning Project/yolov7-main/football-players-detection-2/test/images/42ba34_5_5_png.rf.f691b18c36a92663c7241c99d4202bcc.jpg', '/content/drive/MyDrive/Deep Learning Project/yolov7-main/football-players-detection-2/test/images/4b770a_1_4_png.rf.8a0f6be9776a652d40938181f60b3a6c.jpg', '/content/drive/MyDrive/Deep Learning Project/yolov7-main/football-players-detection-2/test/images/4b770a_3_6_png.rf.f5d975605c1f73e1a95a1d8edc4ce5b1.jpg', '/content/drive/MyDrive/Deep Learning Project/yolov7-main/football-players-detection-2/test/images/573e61_1_9_png.rf.3e04feabb7fa88ed2691adcb5034e6ae.jpg', '/content/drive/MyDrive/Deep Learning Project/yolov7-main/football-players-detection-2/test/images/573e61_9_6_png.rf.f7756714cdfe79da92e3e99837b7b655.jpg', '/content/drive/MyDrive/Deep Learning Project/yolov7-main/football-players-detection-2/test/images/744b27_1_10_png.rf.322f9266079f0424f6aebb23c23cc6de.jpg', '/content/drive/MyDrive/Deep Learning Project/yolov7-main/football-players-detection-2/test/images/744b27_7_4_png.rf.f34ba47e8f30126bc935832bd269ef19.jpg', '/content/drive/MyDrive/Deep Learning Project/yolov7-main/football-players-detection-2/test/images/744b27_9_9_png.rf.1600b8abf2a9ae799312009febc9002e.jpg', '/content/drive/MyDrive/Deep Learning Project/yolov7-main/football-players-detection-2/test/images/798b45_3_3_png.rf.f5479e3b29e91874aaa4ed87e7d08b4a.jpg', '/content/drive/MyDrive/Deep Learning Project/yolov7-main/football-players-detection-2/test/images/a9f16c_2_10_png.rf.f29e544daf06eb8b4e968d158a40af1b.jpg', '/content/drive/MyDrive/Deep Learning Project/yolov7-main/football-players-detection-2/test/images/a9f16c_2_9_png.rf.c048a60764e56735d7465cdec974d102.jpg']\n",
            "0\n",
            "1\n",
            "2\n",
            "3\n",
            "4\n",
            "5\n",
            "6\n",
            "7\n",
            "8\n",
            "9\n"
          ]
        }
      ],
      "source": [
        "#crop 3 test images, we will label them, to check test accuracy\n",
        "crop(\n",
        "    image_paths='/content/drive/MyDrive/Deep Learning Project/yolov7-main/football-players-detection-2/test/images/' ,\n",
        "    label_paths='/content/drive/MyDrive/Deep Learning Project/yolov7-main/football-players-detection-2/test/labels/*.txt',\n",
        "    num_samples= 10, #inf takes all the pictures float(\"inf\")\n",
        "    dest_dir = '/content/drive/MyDrive/Deep Learning Project/FB_Player_Images_test/'\n",
        ")"
      ]
    }
  ],
  "metadata": {
    "colab": {
      "provenance": []
    },
    "kernelspec": {
      "display_name": "Python 3",
      "name": "python3"
    },
    "accelerator": "GPU",
    "gpuClass": "standard"
  },
  "nbformat": 4,
  "nbformat_minor": 0
}