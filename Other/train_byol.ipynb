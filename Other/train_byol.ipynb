{
  "cells": [
    {
      "cell_type": "code",
      "source": [
        "!pip install lightly"
      ],
      "metadata": {
        "id": "7DHfTK8Qwd26",
        "colab": {
          "base_uri": "https://localhost:8080/",
          "height": 1000
        },
        "outputId": "0fa08d96-39ab-4d9a-fec0-a4a0d46080cd"
      },
      "execution_count": null,
      "outputs": [
        {
          "output_type": "stream",
          "name": "stdout",
          "text": [
            "Looking in indexes: https://pypi.org/simple, https://us-python.pkg.dev/colab-wheels/public/simple/\n",
            "Collecting lightly\n",
            "  Downloading lightly-1.2.43-py3-none-any.whl (528 kB)\n",
            "\u001b[2K     \u001b[90m━━━━━━━━━━━━━━━━━━━━━━━━━━━━━━━━━━━━━━\u001b[0m \u001b[32m528.6/528.6 KB\u001b[0m \u001b[31m10.6 MB/s\u001b[0m eta \u001b[36m0:00:00\u001b[0m\n",
            "\u001b[?25hRequirement already satisfied: tqdm>=4.44 in /usr/local/lib/python3.8/dist-packages (from lightly) (4.64.1)\n",
            "Collecting pytorch-lightning>=1.0.4\n",
            "  Downloading pytorch_lightning-1.9.0-py3-none-any.whl (825 kB)\n",
            "\u001b[2K     \u001b[90m━━━━━━━━━━━━━━━━━━━━━━━━━━━━━━━━━━━━━━\u001b[0m \u001b[32m825.8/825.8 KB\u001b[0m \u001b[31m34.6 MB/s\u001b[0m eta \u001b[36m0:00:00\u001b[0m\n",
            "\u001b[?25hRequirement already satisfied: urllib3>=1.15.1 in /usr/local/lib/python3.8/dist-packages (from lightly) (1.24.3)\n",
            "Requirement already satisfied: setuptools<=65.5.1,>=21.0.0 in /usr/local/lib/python3.8/dist-packages (from lightly) (57.4.0)\n",
            "Requirement already satisfied: python-dateutil>=2.5.3 in /usr/local/lib/python3.8/dist-packages (from lightly) (2.8.2)\n",
            "Requirement already satisfied: certifi>=14.05.14 in /usr/local/lib/python3.8/dist-packages (from lightly) (2022.12.7)\n",
            "Collecting lightly-utils~=0.0.0\n",
            "  Downloading lightly_utils-0.0.2-py3-none-any.whl (6.4 kB)\n",
            "Requirement already satisfied: six>=1.10 in /usr/local/lib/python3.8/dist-packages (from lightly) (1.15.0)\n",
            "Collecting hydra-core>=1.0.0\n",
            "  Downloading hydra_core-1.3.1-py3-none-any.whl (154 kB)\n",
            "\u001b[2K     \u001b[90m━━━━━━━━━━━━━━━━━━━━━━━━━━━━━━━━━━━━━━\u001b[0m \u001b[32m154.1/154.1 KB\u001b[0m \u001b[31m12.0 MB/s\u001b[0m eta \u001b[36m0:00:00\u001b[0m\n",
            "\u001b[?25hRequirement already satisfied: torchvision in /usr/local/lib/python3.8/dist-packages (from lightly) (0.14.1+cu116)\n",
            "Requirement already satisfied: numpy>=1.18.1 in /usr/local/lib/python3.8/dist-packages (from lightly) (1.21.6)\n",
            "Requirement already satisfied: requests>=2.23.0 in /usr/local/lib/python3.8/dist-packages (from lightly) (2.25.1)\n",
            "Requirement already satisfied: packaging in /usr/local/lib/python3.8/dist-packages (from hydra-core>=1.0.0->lightly) (21.3)\n",
            "Collecting omegaconf<2.4,>=2.2\n",
            "  Downloading omegaconf-2.3.0-py3-none-any.whl (79 kB)\n",
            "\u001b[2K     \u001b[90m━━━━━━━━━━━━━━━━━━━━━━━━━━━━━━━━━━━━━━━━\u001b[0m \u001b[32m79.5/79.5 KB\u001b[0m \u001b[31m4.6 MB/s\u001b[0m eta \u001b[36m0:00:00\u001b[0m\n",
            "\u001b[?25hRequirement already satisfied: importlib-resources in /usr/local/lib/python3.8/dist-packages (from hydra-core>=1.0.0->lightly) (5.10.2)\n",
            "Collecting antlr4-python3-runtime==4.9.*\n",
            "  Downloading antlr4-python3-runtime-4.9.3.tar.gz (117 kB)\n",
            "\u001b[2K     \u001b[90m━━━━━━━━━━━━━━━━━━━━━━━━━━━━━━━━━━━━━━━\u001b[0m \u001b[32m117.0/117.0 KB\u001b[0m \u001b[31m8.2 MB/s\u001b[0m eta \u001b[36m0:00:00\u001b[0m\n",
            "\u001b[?25h  Preparing metadata (setup.py) ... \u001b[?25l\u001b[?25hdone\n",
            "Requirement already satisfied: Pillow in /usr/local/lib/python3.8/dist-packages (from lightly-utils~=0.0.0->lightly) (7.1.2)\n",
            "Requirement already satisfied: PyYAML>=5.4 in /usr/local/lib/python3.8/dist-packages (from pytorch-lightning>=1.0.4->lightly) (6.0)\n",
            "Collecting lightning-utilities>=0.4.2\n",
            "  Downloading lightning_utilities-0.6.0.post0-py3-none-any.whl (18 kB)\n",
            "Requirement already satisfied: typing-extensions>=4.0.0 in /usr/local/lib/python3.8/dist-packages (from pytorch-lightning>=1.0.4->lightly) (4.4.0)\n",
            "Requirement already satisfied: fsspec[http]>2021.06.0 in /usr/local/lib/python3.8/dist-packages (from pytorch-lightning>=1.0.4->lightly) (2022.11.0)\n",
            "Collecting torchmetrics>=0.7.0\n",
            "  Downloading torchmetrics-0.11.0-py3-none-any.whl (512 kB)\n",
            "\u001b[2K     \u001b[90m━━━━━━━━━━━━━━━━━━━━━━━━━━━━━━━━━━━━━━\u001b[0m \u001b[32m512.4/512.4 KB\u001b[0m \u001b[31m23.4 MB/s\u001b[0m eta \u001b[36m0:00:00\u001b[0m\n",
            "\u001b[?25hRequirement already satisfied: torch>=1.10.0 in /usr/local/lib/python3.8/dist-packages (from pytorch-lightning>=1.0.4->lightly) (1.13.1+cu116)\n",
            "Requirement already satisfied: idna<3,>=2.5 in /usr/local/lib/python3.8/dist-packages (from requests>=2.23.0->lightly) (2.10)\n",
            "Requirement already satisfied: chardet<5,>=3.0.2 in /usr/local/lib/python3.8/dist-packages (from requests>=2.23.0->lightly) (4.0.0)\n",
            "Requirement already satisfied: aiohttp!=4.0.0a0,!=4.0.0a1 in /usr/local/lib/python3.8/dist-packages (from fsspec[http]>2021.06.0->pytorch-lightning>=1.0.4->lightly) (3.8.3)\n",
            "Requirement already satisfied: pyparsing!=3.0.5,>=2.0.2 in /usr/local/lib/python3.8/dist-packages (from packaging->hydra-core>=1.0.0->lightly) (3.0.9)\n",
            "Requirement already satisfied: zipp>=3.1.0 in /usr/local/lib/python3.8/dist-packages (from importlib-resources->hydra-core>=1.0.0->lightly) (3.11.0)\n",
            "Requirement already satisfied: frozenlist>=1.1.1 in /usr/local/lib/python3.8/dist-packages (from aiohttp!=4.0.0a0,!=4.0.0a1->fsspec[http]>2021.06.0->pytorch-lightning>=1.0.4->lightly) (1.3.3)\n",
            "Requirement already satisfied: attrs>=17.3.0 in /usr/local/lib/python3.8/dist-packages (from aiohttp!=4.0.0a0,!=4.0.0a1->fsspec[http]>2021.06.0->pytorch-lightning>=1.0.4->lightly) (22.2.0)\n",
            "Requirement already satisfied: yarl<2.0,>=1.0 in /usr/local/lib/python3.8/dist-packages (from aiohttp!=4.0.0a0,!=4.0.0a1->fsspec[http]>2021.06.0->pytorch-lightning>=1.0.4->lightly) (1.8.2)\n",
            "Requirement already satisfied: multidict<7.0,>=4.5 in /usr/local/lib/python3.8/dist-packages (from aiohttp!=4.0.0a0,!=4.0.0a1->fsspec[http]>2021.06.0->pytorch-lightning>=1.0.4->lightly) (6.0.4)\n",
            "Requirement already satisfied: charset-normalizer<3.0,>=2.0 in /usr/local/lib/python3.8/dist-packages (from aiohttp!=4.0.0a0,!=4.0.0a1->fsspec[http]>2021.06.0->pytorch-lightning>=1.0.4->lightly) (2.1.1)\n",
            "Requirement already satisfied: aiosignal>=1.1.2 in /usr/local/lib/python3.8/dist-packages (from aiohttp!=4.0.0a0,!=4.0.0a1->fsspec[http]>2021.06.0->pytorch-lightning>=1.0.4->lightly) (1.3.1)\n",
            "Requirement already satisfied: async-timeout<5.0,>=4.0.0a3 in /usr/local/lib/python3.8/dist-packages (from aiohttp!=4.0.0a0,!=4.0.0a1->fsspec[http]>2021.06.0->pytorch-lightning>=1.0.4->lightly) (4.0.2)\n",
            "Building wheels for collected packages: antlr4-python3-runtime\n",
            "  Building wheel for antlr4-python3-runtime (setup.py) ... \u001b[?25l\u001b[?25hdone\n",
            "  Created wheel for antlr4-python3-runtime: filename=antlr4_python3_runtime-4.9.3-py3-none-any.whl size=144575 sha256=ae2819603a3aa585445552518c5e2c0fff73c7d49f42f14d89250dac0953d8b8\n",
            "  Stored in directory: /root/.cache/pip/wheels/b1/a3/c2/6df046c09459b73cc9bb6c4401b0be6c47048baf9a1617c485\n",
            "Successfully built antlr4-python3-runtime\n",
            "Installing collected packages: antlr4-python3-runtime, omegaconf, lightly-utils, torchmetrics, lightning-utilities, hydra-core, pytorch-lightning, lightly\n",
            "Successfully installed antlr4-python3-runtime-4.9.3 hydra-core-1.3.1 lightly-1.2.43 lightly-utils-0.0.2 lightning-utilities-0.6.0.post0 omegaconf-2.3.0 pytorch-lightning-1.9.0 torchmetrics-0.11.0\n"
          ]
        },
        {
          "output_type": "display_data",
          "data": {
            "application/vnd.colab-display-data+json": {
              "pip_warning": {
                "packages": [
                  "pydevd_plugins"
                ]
              }
            }
          },
          "metadata": {}
        }
      ]
    },
    {
      "cell_type": "code",
      "execution_count": null,
      "metadata": {
        "id": "lN10rYji5PXN"
      },
      "outputs": [],
      "source": [
        "import numpy as np\n",
        "import cv2\n",
        "import glob\n",
        "import copy\n",
        "import matplotlib.pyplot as plt\n",
        "import os\n",
        "\n",
        "from sklearn.cluster import KMeans\n",
        "\n",
        "import torch\n",
        "from torch import nn\n",
        "import torchvision\n",
        "import torchvision.transforms as transforms\n",
        "from torch.optim.lr_scheduler import StepLR\n",
        "from torch.optim.lr_scheduler import ReduceLROnPlateau\n",
        "from torch.optim.lr_scheduler import CosineAnnealingWarmRestarts\n",
        "\n",
        "from lightly.data import LightlyDataset\n",
        "from lightly.data import SimCLRCollateFunction\n",
        "from lightly.loss import NegativeCosineSimilarity\n",
        "from lightly.models.modules import BYOLProjectionHead, BYOLPredictionHead\n",
        "from lightly.models.utils import deactivate_requires_grad\n",
        "from lightly.models.utils import update_momentum"
      ]
    },
    {
      "cell_type": "code",
      "execution_count": null,
      "metadata": {
        "id": "MeD-XkWlEvGA"
      },
      "outputs": [],
      "source": [
        "COLAB = True\n",
        "ROOT_PATH = '/content/drive/MyDrive/Deep Learning Project/' if COLAB else '/home/danielhassid/Downloads/Deep_Learning_Project/'"
      ]
    },
    {
      "cell_type": "code",
      "source": [
        "class BYOL(nn.Module):\n",
        "    def __init__(self, backbone):\n",
        "        super().__init__()\n",
        "\n",
        "        self.backbone = backbone\n",
        "        self.projection_head = BYOLProjectionHead()\n",
        "        self.prediction_head = BYOLPredictionHead()\n",
        "\n",
        "        self.backbone_momentum = copy.deepcopy(self.backbone)\n",
        "        self.projection_head_momentum = copy.deepcopy(self.projection_head)\n",
        "\n",
        "        deactivate_requires_grad(self.backbone_momentum)\n",
        "        deactivate_requires_grad(self.projection_head_momentum)\n",
        "\n",
        "    def forward(self, x):\n",
        "        y = self.backbone(x).flatten(start_dim=1)\n",
        "        z = self.projection_head(y)\n",
        "        p = self.prediction_head(z)\n",
        "        return p\n",
        "\n",
        "    def forward_momentum(self, x):\n",
        "        y = self.backbone_momentum(x).flatten(start_dim=1)\n",
        "        z = self.projection_head_momentum(y)\n",
        "        z = z.detach()\n",
        "        return z\n",
        "    \n",
        "    def clustering(self, x):\n",
        "        y = self.backbone(x).flatten(start_dim=1)\n",
        "        z = self.projection_head(y)\n",
        "        return z        "
      ],
      "metadata": {
        "id": "kBFVUZLnxDKy"
      },
      "execution_count": null,
      "outputs": []
    },
    {
      "cell_type": "code",
      "execution_count": null,
      "metadata": {
        "id": "4hOs3CJuMSAX"
      },
      "outputs": [],
      "source": [
        "# in this section we want to check which indoxes at the projection head output most effected from changing the shirt colour,\n",
        "# we changed by ourself the shirt colour.\n",
        "def calc_rellevant_indexes(model2):\n",
        "  model2.eval()\n",
        "  main_dir = ROOT_PATH + 'FB_PLayers_diff_shirt'\n",
        "  rellevantIndexes = np.asarray([], dtype = np.int32)\n",
        "  for file in os.listdir(main_dir):\n",
        "      dir = os.path.join(main_dir, file)\n",
        "      images_paths = sorted(glob.glob(dir + '/*.jpg'))\n",
        "      # print(dir)\n",
        "      images = [cv2.imread(img_path) for img_path in images_paths]\n",
        "      tensor_images = [my_transforms(image).unsqueeze(0) for image in images]\n",
        "      with torch.no_grad():\n",
        "          outputs = [model2.clustering(tensor_image.to(device))[0].cpu().numpy() for tensor_image in tensor_images]\n",
        "\n",
        "      #convert to array from list\n",
        "      x = np.asarray(outputs)\n",
        "      # print(x.shape)\n",
        "      high_std_indexes = (-x.std(axis = 0)).argsort()[:5]\n",
        "      # print(f\"high std indexes = {np.asarray(high_std_indexes)}\")\n",
        "      # a = x.std(axis = 0)\n",
        "      # print(a[np.asarray(high_std_indexes)])\n",
        "      rellevantIndexes = np.unique(np.concatenate((rellevantIndexes, high_std_indexes), axis=0))\n",
        "  # print(f\"unique indexes = {np.unique(rellevantIndexes)}\")\n",
        "  return rellevantIndexes"
      ]
    },
    {
      "cell_type": "code",
      "execution_count": null,
      "metadata": {
        "id": "B9qR6uepCc_c"
      },
      "outputs": [],
      "source": [
        "my_transforms = transforms.Compose([\n",
        "    transforms.ToTensor(),\n",
        "    transforms.Resize(224),\n",
        "    transforms.Normalize(mean=[0.485, 0.456, 0.406], std=[0.229, 0.224, 0.225]),\n",
        "])"
      ]
    },
    {
      "cell_type": "code",
      "execution_count": null,
      "metadata": {
        "id": "WX4llWVqFejq"
      },
      "outputs": [],
      "source": [
        "def calc_validation_err(model2):\n",
        "  model2.eval()\n",
        "  main_dir = ROOT_PATH + 'FB_Player_Images_validation'\n",
        "  total_err = 0\n",
        "  total_err2 = 0 \n",
        "  labels_num = 0\n",
        "  rellevantIndexes = calc_rellevant_indexes(model2)\n",
        "  for file in os.listdir(main_dir):\n",
        "    dir = os.path.join(main_dir, file)\n",
        "    images_paths = sorted(glob.glob(dir + '/*.jpg'))\n",
        "    # print(dir)\n",
        "    images = [cv2.imread(img_path) for img_path in images_paths]\n",
        "    tensor_images = [my_transforms(image).unsqueeze(0) for image in images]\n",
        "    with torch.no_grad():\n",
        "        outputs = [model2.clustering(tensor_image.to(device))[0].cpu().numpy() for tensor_image in tensor_images]\n",
        "\n",
        "    #convert to array from list\n",
        "    x = np.asarray(outputs)\n",
        "    # print(x.shape)\n",
        "    labels_num = labels_num + x.shape[0]\n",
        "    # 2 means\n",
        "    kmeans = KMeans(n_clusters=2, random_state=0)\n",
        "    labels = kmeans.fit_predict(x) \n",
        "    lebels_2 = kmeans.fit_predict(x[:,rellevantIndexes]) # Use only most influential indeces out of 256\n",
        "    # print(labels)\n",
        "    real_labels = np.loadtxt(dir + '/labels.txt', dtype = np.float32)\n",
        "    # print(real_labels)\n",
        "    #calc the error, choose the min among err and 1- err because we can replace the labels of team 0 and 1\n",
        "    err = np.mean(np.abs(real_labels - labels))\n",
        "    err = np.min((err,1-err))\n",
        "    # print(f'err = {err:.2f}')\n",
        "    total_err = total_err + err * x.shape[0]\n",
        "    #calculate the error of labels_2\n",
        "    err2 = np.mean(np.abs(real_labels - lebels_2))\n",
        "    err2 = np.min((err2,1-err2))\n",
        "    # print(f'err 2 = {err2:.2f}')\n",
        "    total_err2 = total_err2 + err2 * x.shape[0]\n",
        "  mean_err =  total_err/ labels_num\n",
        "  mean_err2 =  total_err2/ labels_num\n",
        "  # print(\"mean validation error = {} \".format(mean_err))\n",
        "  # print(\"mean validation error 2 indexes = {} \".format(mean_err2))\n",
        "  return mean_err, mean_err2"
      ]
    },
    {
      "cell_type": "code",
      "execution_count": null,
      "metadata": {
        "id": "ksFPq56PFeKm",
        "colab": {
          "base_uri": "https://localhost:8080/"
        },
        "outputId": "79aec7e5-11c6-489b-9d07-34b4ecf686aa"
      },
      "outputs": [
        {
          "output_type": "stream",
          "name": "stdout",
          "text": [
            "Starting Training\n",
            "/content/drive/MyDrive/Deep Learning Project/FB_PLayers_diff_shirt/1\n",
            "high std indexes = [ 41  58  46 222 252]\n",
            "/content/drive/MyDrive/Deep Learning Project/FB_PLayers_diff_shirt/2\n",
            "high std indexes = [  2 253 235 191  13]\n",
            "/content/drive/MyDrive/Deep Learning Project/FB_PLayers_diff_shirt/3\n",
            "high std indexes = [222 244 113  82 201]\n",
            "/content/drive/MyDrive/Deep Learning Project/FB_PLayers_diff_shirt/4\n",
            "high std indexes = [218 235 199 203 191]\n",
            "/content/drive/MyDrive/Deep Learning Project/FB_PLayers_diff_shirt/5\n",
            "high std indexes = [ 35  15 171 224 151]\n",
            "epoch: 00, loss: -0.00053\n",
            "mean validation error: 0.104\n",
            "mean validation error 2 indexes: 0.176\n",
            "/content/drive/MyDrive/Deep Learning Project/FB_PLayers_diff_shirt/1\n",
            "high std indexes = [63 84 82  0 33]\n",
            "/content/drive/MyDrive/Deep Learning Project/FB_PLayers_diff_shirt/2\n",
            "high std indexes = [168  12 128  60 162]\n",
            "/content/drive/MyDrive/Deep Learning Project/FB_PLayers_diff_shirt/3\n",
            "high std indexes = [ 90 188  82   0 238]\n",
            "/content/drive/MyDrive/Deep Learning Project/FB_PLayers_diff_shirt/4\n",
            "high std indexes = [168 197 241   4 252]\n",
            "/content/drive/MyDrive/Deep Learning Project/FB_PLayers_diff_shirt/5\n",
            "high std indexes = [ 10 168   4 251  80]\n",
            "epoch: 01, loss: -0.30094\n",
            "mean validation error: 0.303\n",
            "mean validation error 2 indexes: 0.305\n"
          ]
        }
      ],
      "source": [
        "# Training with resnet50, latent space size = 256\n",
        "\n",
        "# Resnet as backbone\n",
        "resnet = torchvision.models.resnet50(pretrained = 'true')\n",
        "# Keep everything but classification head\n",
        "backbone = nn.Sequential(*list(resnet.children())[:-1])\n",
        "# Build BYOL\n",
        "model2 = BYOL(backbone)\n",
        "\n",
        "# Set device\n",
        "device = \"cuda\" if torch.cuda.is_available() else \"cpu\"\n",
        "model2.to(device)\n",
        "\n",
        "# Setup Dataset\n",
        "dataset = LightlyDataset(ROOT_PATH + \"FB_Player_Images_validation/14\")\n",
        "\n",
        "# Augmentations\n",
        "collate_fn = SimCLRCollateFunction(input_size=224,  cj_prob = 0.0, random_gray_scale = 0.0, vf_prob = 0.5, rr_prob = 0.5)\n",
        "\n",
        "# Dataloader\n",
        "dataloader = torch.utils.data.DataLoader(\n",
        "    dataset,\n",
        "    batch_size=16,\n",
        "    collate_fn=collate_fn,\n",
        "    shuffle=True,\n",
        "    drop_last=True,\n",
        "    num_workers=1,\n",
        ")\n",
        "\n",
        "# Loss function\n",
        "criterion =  NegativeCosineSimilarity()\n",
        "\n",
        "# Optimiser\n",
        "optimizer = torch.optim.SGD(model2.parameters(), lr=0.06)\n",
        "\n",
        "# Scheduler\n",
        "scheduler = CosineAnnealingWarmRestarts(optimizer, \n",
        "                                        T_0 = 75,# Number of iterations for the first restart\n",
        "                                        T_mult = 1, # A factor increases TiTi​ after a restart\n",
        "                                        eta_min = 1e-5) # Minimum learning rate\n",
        "# Training Loop\n",
        "\n",
        "print(\"Starting Training\")\n",
        "avg_losses = []\n",
        "validation_losses = []\n",
        "validation_2_losses = []\n",
        "avg_loss_min = np.inf\n",
        "validation_loss_min = np.inf\n",
        "validation_loss_2_min = np.inf\n",
        "\n",
        "for epoch in range(2):\n",
        "    total_loss = 0\n",
        "    for (x0, x1), _, _ in dataloader:\n",
        "\n",
        "        update_momentum(model2.backbone, model2.backbone_momentum, m=0.99)\n",
        "        update_momentum(model2.projection_head, model2.projection_head_momentum, m=0.99)\n",
        "        x0 = x0.to(device)\n",
        "        x1 = x1.to(device)\n",
        "        p0 = model2(x0)\n",
        "        z0 = model2.forward_momentum(x0)\n",
        "        p1 = model2(x1)\n",
        "        z1 = model2.forward_momentum(x1)\n",
        "        loss = 0.5 * (criterion(p0, z1) + criterion(p1, z0))\n",
        "        total_loss += loss.detach()\n",
        "        loss.backward()\n",
        "        optimizer.step()\n",
        "        optimizer.zero_grad()\n",
        "\n",
        "    avg_loss = total_loss / len(dataloader)\n",
        "    validation_loss, validation_loss_2 = calc_validation_err(model2)\n",
        "    avg_losses.append(avg_loss.to(\"cpu\").detach().numpy())\n",
        "    validation_losses.append(validation_loss)\n",
        "    validation_2_losses.append(validation_loss_2)\n",
        "    # if avg_loss < avg_loss_min:\n",
        "    #   avg_loss_min = avg_loss\n",
        "    #   torch.save(model2.state_dict(), ROOT_PATH + 'Byol_Best_loss_1200.pt')\n",
        "    # if validation_loss < validation_loss_min:\n",
        "    #   validation_loss_min = validation_loss\n",
        "    #   torch.save(model2.state_dict(), ROOT_PATH + 'Byol_Best_validation_1200.pt')\n",
        "    # if validation_loss_2 < validation_loss_2_min:\n",
        "    #   validation_loss_2_min = validation_loss_2\n",
        "    #   torch.save(model2.state_dict(), ROOT_PATH + 'Byol_Best_validation_2_1200.pt')\n",
        "\n",
        "    print(f\"epoch: {epoch:>02}, loss: {avg_loss:.5f}\")\n",
        "    print(f\"mean validation error: {validation_loss:.3f}\")\n",
        "    print(f\"mean validation error 2 indexes: {validation_loss_2:.3f}\")\n",
        "    scheduler.step()"
      ]
    },
    {
      "cell_type": "code",
      "execution_count": null,
      "metadata": {
        "id": "QpZbFaAgEvGF",
        "colab": {
          "base_uri": "https://localhost:8080/",
          "height": 903
        },
        "outputId": "32cb9442-977f-4391-c7be-b25ed99c4edd"
      },
      "outputs": [
        {
          "output_type": "stream",
          "name": "stdout",
          "text": [
            "average loss min = : inf\n",
            "validation error min = : inf\n",
            "validation error 2 min = : inf\n"
          ]
        },
        {
          "output_type": "display_data",
          "data": {
            "text/plain": [
              "<Figure size 432x288 with 1 Axes>"
            ],
            "image/png": "[encoded data removed]"
          },
          "metadata": {
            "needs_background": "light"
          }
        },
        {
          "output_type": "display_data",
          "data": {
            "text/plain": [
              "<Figure size 432x288 with 1 Axes>"
            ],
            "image/png": "[encoded data removed]"
          },
          "metadata": {
            "needs_background": "light"
          }
        },
        {
          "output_type": "display_data",
          "data": {
            "text/plain": [
              "<Figure size 432x288 with 1 Axes>"
            ],
            "image/png": "[encoded data removed]"
          },
          "metadata": {
            "needs_background": "light"
          }
        }
      ],
      "source": [
        "print(f\"average loss min = : {avg_loss_min:.3f}\")\n",
        "print(f\"validation error min = : {validation_loss_min:.3f}\")\n",
        "print(f\"validation error 2 min = : {validation_loss_2_min:.3f}\")\n",
        "\n",
        "# Plot loss graphs\n",
        "%matplotlib inline\n",
        "plt.plot(avg_losses)\n",
        "plt.xlabel('# epochs')\n",
        "plt.ylabel('Average losses')\n",
        "plt.title('Loss vs. Epoch')\n",
        "plt.show()\n",
        "\n",
        "\n",
        "%matplotlib inline\n",
        "plt.plot(validation_losses)\n",
        "plt.xlabel('# epochs')\n",
        "plt.ylabel('Validation err')\n",
        "plt.title('Validation Err vs. Epoch')\n",
        "plt.show()\n",
        "\n",
        "\n",
        "%matplotlib inline\n",
        "plt.plot(validation_2_losses)\n",
        "plt.xlabel('# epochs')\n",
        "plt.ylabel('Validation err')\n",
        "plt.title('Validation Err vs. Epoch')\n",
        "plt.show()"
      ]
    }
  ],
  "metadata": {
    "colab": {
      "provenance": []
    },
    "gpuClass": "standard",
    "kernelspec": {
      "display_name": "Python 3",
      "language": "python",
      "name": "python3"
    },
    "language_info": {
      "codemirror_mode": {
        "name": "ipython",
        "version": 3
      },
      "file_extension": ".py",
      "mimetype": "text/x-python",
      "name": "python",
      "nbconvert_exporter": "python",
      "pygments_lexer": "ipython3",
      "version": "3.8.10"
    },
    "vscode": {
      "interpreter": {
        "hash": "e7370f93d1d0cde622a1f8e1c04877d8463912d04d973331ad4851f04de6915a"
      }
    },
    "accelerator": "GPU"
  },
  "nbformat": 4,
  "nbformat_minor": 0
}
